{
 "cells": [
  {
   "cell_type": "code",
   "execution_count": 2,
   "metadata": {},
   "outputs": [],
   "source": [
    "import cv2\n",
    "import numpy as np"
   ]
  },
  {
   "cell_type": "markdown",
   "metadata": {},
   "source": [
    "### 텍스트"
   ]
  },
  {
   "cell_type": "code",
   "execution_count": 10,
   "metadata": {},
   "outputs": [
    {
     "data": {
      "text/plain": [
       "-1"
      ]
     },
     "execution_count": 10,
     "metadata": {},
     "output_type": "execute_result"
    }
   ],
   "source": [
    "img  = np.zeros((460,640,3), dtype = np.uint8)\n",
    "cv2.putText(img=img, text = \"Hello\", org = (100,125), fontFace = cv2.FONT_HERSHEY_SIMPLEX|cv2.FONT_ITALIC, \n",
    "            fontScale= 4, color = (255,0,0),thickness=5)\n",
    "cv2.imshow('img',img)\n",
    "cv2.waitKey(0)\n",
    "cv2.destroyAllWindows()\n",
    "cv2.waitKey(1)\n"
   ]
  },
  {
   "cell_type": "code",
   "execution_count": 3,
   "metadata": {},
   "outputs": [
    {
     "name": "stderr",
     "output_type": "stream",
     "text": [
      "2025-01-03 11:20:07.385 Python[92012:20499397] +[IMKClient subclass]: chose IMKClient_Modern\n",
      "2025-01-03 11:20:07.386 Python[92012:20499397] +[IMKInputSession subclass]: chose IMKInputSession_Modern\n"
     ]
    },
    {
     "data": {
      "text/plain": [
       "-1"
      ]
     },
     "execution_count": 3,
     "metadata": {},
     "output_type": "execute_result"
    }
   ],
   "source": [
    "from PIL import ImageFont, ImageDraw, Image\n",
    "\n",
    "def myPutText(plate,text, pos, font_size, font_color):\n",
    "    img_pil = Image.fromarray(plate)\n",
    "    draw = ImageDraw.Draw(img_pil)\n",
    "    font = ImageFont.truetype(\"/System/Library/Fonts/Supplemental/AppleSDGothicNeo.ttc\",font_size)\n",
    "    draw.text(pos,text ,font=font, fill =font_color)\n",
    "    return np.array(img_pil)\n",
    "\n",
    "canvas = np.zeros((460,640,3),dtype = np.uint8)\n",
    "\n",
    "FONT_SIZE = 30\n",
    "COLOR = (255,255,255)\n",
    "THICKNESS = 1\n",
    "img = myPutText(canvas, \"안녕\", (20,100), FONT_SIZE, COLOR)\n",
    "cv2.imshow(\"TEXT\",img)\n",
    "cv2.waitKey(0)\n",
    "cv2.destroyAllWindows()\n",
    "cv2.waitKey(1)\n"
   ]
  },
  {
   "cell_type": "markdown",
   "metadata": {},
   "source": []
  },
  {
   "cell_type": "code",
   "execution_count": null,
   "metadata": {},
   "outputs": [],
   "source": []
  }
 ],
 "metadata": {
  "kernelspec": {
   "display_name": "ai",
   "language": "python",
   "name": "python3"
  },
  "language_info": {
   "codemirror_mode": {
    "name": "ipython",
    "version": 3
   },
   "file_extension": ".py",
   "mimetype": "text/x-python",
   "name": "python",
   "nbconvert_exporter": "python",
   "pygments_lexer": "ipython3",
   "version": "3.9.11"
  }
 },
 "nbformat": 4,
 "nbformat_minor": 2
}
