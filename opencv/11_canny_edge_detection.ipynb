{
 "cells": [
  {
   "cell_type": "markdown",
   "metadata": {},
   "source": [
    "### edge detection"
   ]
  },
  {
   "cell_type": "code",
   "execution_count": 1,
   "metadata": {},
   "outputs": [],
   "source": [
    "import cv2"
   ]
  },
  {
   "cell_type": "code",
   "execution_count": 5,
   "metadata": {},
   "outputs": [],
   "source": [
    "path = 'images/mountain.jpg'"
   ]
  },
  {
   "cell_type": "code",
   "execution_count": 11,
   "metadata": {},
   "outputs": [
    {
     "data": {
      "text/plain": [
       "-1"
      ]
     },
     "execution_count": 11,
     "metadata": {},
     "output_type": "execute_result"
    }
   ],
   "source": [
    "img = cv2.imread(path, cv2.COLOR_BGR2GRAY)\n",
    "name = 'trackbar'\n",
    "cv2.namedWindow(name)\n",
    "cv2.createTrackbar('Threshold1',name,0,255, lambda x : x)\n",
    "cv2.createTrackbar('Threshold2',name,0,255, lambda x : x)\n",
    "while True:\n",
    "    threshold1 = cv2.getTrackbarPos('Threshold1',name)\n",
    "    threshold2 = cv2.getTrackbarPos(\"Threshold2\",name)\n",
    "    canny = cv2.Canny(img,threshold1,threshold2)\n",
    "    cv2.imshow(name,canny)\n",
    "    if cv2.waitKey(1) == ord(\"q\") or cv2.waitKey(1) == ord('ㅂ'):\n",
    "        break\n",
    "\n",
    "cv2.destroyAllWindows()\n",
    "\n",
    "cv2.waitKey(1)"
   ]
  },
  {
   "cell_type": "code",
   "execution_count": 3,
   "metadata": {},
   "outputs": [
    {
     "data": {
      "text/plain": [
       "-1"
      ]
     },
     "execution_count": 3,
     "metadata": {},
     "output_type": "execute_result"
    }
   ],
   "source": [
    "cap = cv2.VideoCapture(0)\n",
    "name = 'trackbar'\n",
    "cv2.namedWindow(name)\n",
    "cv2.createTrackbar('Threshold1',name,0,255, lambda x : x)\n",
    "cv2.createTrackbar('Threshold2',name,0,255, lambda x : x)\n",
    "\n",
    "if not cap.isOpened():\n",
    "    exit()\n",
    "while True:\n",
    "    threshold1 = cv2.getTrackbarPos('Threshold1',name)\n",
    "    threshold2 = cv2.getTrackbarPos(\"Threshold2\",name)\n",
    "    ret, frame = cap.read()\n",
    "    canny_frame = cv2.Canny(frame,threshold1,threshold2)\n",
    "    if not ret:\n",
    "        break\n",
    "    cv2.imshow(name,canny_frame)\n",
    "    cv2.imshow('original',frame)\n",
    "    if cv2.waitKey(1) == ord(\"q\") or cv2.waitKey(1) == ord('ㅂ'):\n",
    "        break\n",
    "cap.release()\n",
    "\n",
    "cv2.destroyAllWindows()\n",
    "\n",
    "cv2.waitKey(1)"
   ]
  },
  {
   "cell_type": "code",
   "execution_count": null,
   "metadata": {},
   "outputs": [],
   "source": []
  }
 ],
 "metadata": {
  "kernelspec": {
   "display_name": "ai",
   "language": "python",
   "name": "python3"
  },
  "language_info": {
   "codemirror_mode": {
    "name": "ipython",
    "version": 3
   },
   "file_extension": ".py",
   "mimetype": "text/x-python",
   "name": "python",
   "nbconvert_exporter": "python",
   "pygments_lexer": "ipython3",
   "version": "3.9.11"
  }
 },
 "nbformat": 4,
 "nbformat_minor": 2
}
