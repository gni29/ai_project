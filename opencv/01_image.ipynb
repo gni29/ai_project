{
 "cells": [
  {
   "cell_type": "code",
   "execution_count": 1,
   "metadata": {},
   "outputs": [],
   "source": [
    "import cv2"
   ]
  },
  {
   "cell_type": "markdown",
   "metadata": {},
   "source": [
    "### image 입출력"
   ]
  },
  {
   "cell_type": "code",
   "execution_count": 2,
   "metadata": {},
   "outputs": [
    {
     "name": "stderr",
     "output_type": "stream",
     "text": [
      "2025-01-02 11:46:34.886 Python[73397:16907570] +[IMKClient subclass]: chose IMKClient_Modern\n",
      "2025-01-02 11:46:34.886 Python[73397:16907570] +[IMKInputSession subclass]: chose IMKInputSession_Modern\n"
     ]
    }
   ],
   "source": [
    "img = cv2.imread('images/MainAfter.jpg')\n",
    "cv2.imshow(\"Image\",img)\n",
    "key = cv2.waitKey(0) ## 0은 무한대기 다른 수는 밀리세컨드 단위 키입력이 없으면 -1을 반환\n",
    "\n",
    "cv2.destroyAllWindows()"
   ]
  },
  {
   "cell_type": "markdown",
   "metadata": {},
   "source": [
    "### image 불러오기 옵션\n",
    "- cv2.IMREAD_COLOR : 이미지를 컬러로, default, 투명배경 무시\n",
    "- cv2.IMREAD_GRAYSCALE : 이미지를 흑백으로\n",
    "- cv2.IMREAD_UNCHANGED : 이미지 컬러, 투명배경, alpha 값 반환"
   ]
  },
  {
   "cell_type": "code",
   "execution_count": 2,
   "metadata": {},
   "outputs": [],
   "source": [
    "img_default = cv2.imread('images/MainAfter.jpg', flags = cv2.IMREAD_COLOR)\n",
    "img_gray = cv2.imread('images/MainAfter.jpg', flags = cv2.IMREAD_GRAYSCALE)\n",
    "img_unchanged = cv2.imread('images/MainAfter.jpg', flags = cv2.IMREAD_UNCHANGED)\n",
    "\n"
   ]
  },
  {
   "cell_type": "code",
   "execution_count": 5,
   "metadata": {},
   "outputs": [],
   "source": [
    "cv2.imshow('default',img_default)\n",
    "cv2.imshow('gray',img_gray)\n",
    "cv2.imshow('unchanged',img_unchanged)\n",
    "key = cv2.waitKey(5)\n",
    "cv2.destroyWindow('default')\n",
    "cv2.destroyWindow('gray')\n",
    "cv2.destroyWindow('unchanged')\n",
    "for i in range(5):  # 여러 번 호출하여 창이 확실히 닫히도록 처리\n",
    "    cv2.waitKey(1)"
   ]
  },
  {
   "cell_type": "code",
   "execution_count": 3,
   "metadata": {},
   "outputs": [
    {
     "name": "stdout",
     "output_type": "stream",
     "text": [
      "720 1280 3\n"
     ]
    }
   ],
   "source": [
    "height, weight, channel = img_default.shape\n",
    "print(height, weight, channel)"
   ]
  },
  {
   "cell_type": "code",
   "execution_count": 7,
   "metadata": {},
   "outputs": [
    {
     "name": "stdout",
     "output_type": "stream",
     "text": [
      "(1094, 1794, 4)\n"
     ]
    }
   ],
   "source": [
    "img = cv2.imread(\"images/cat.png\", cv2.IMREAD_UNCHANGED)\n",
    "print(img.shape)\n",
    "height, width, channel = img.shape\n"
   ]
  },
  {
   "cell_type": "code",
   "execution_count": 1,
   "metadata": {},
   "outputs": [
    {
     "name": "stderr",
     "output_type": "stream",
     "text": [
      "2025-01-02 12:17:11.931 Python[74210:16931687] +[IMKClient subclass]: chose IMKClient_Modern\n",
      "2025-01-02 12:17:11.931 Python[74210:16931687] +[IMKInputSession subclass]: chose IMKInputSession_Modern\n"
     ]
    },
    {
     "data": {
      "text/plain": [
       "True"
      ]
     },
     "execution_count": 1,
     "metadata": {},
     "output_type": "execute_result"
    },
    {
     "ename": "",
     "evalue": "",
     "output_type": "error",
     "traceback": [
      "\u001b[1;31m현재 셀 또는 이전 셀에서 코드를 실행하는 동안 Kernel이 충돌했습니다. \n",
      "\u001b[1;31m셀의 코드를 검토하여 가능한 오류 원인을 식별하세요. \n",
      "\u001b[1;31m자세한 내용을 보려면 <a href='https://aka.ms/vscodeJupyterKernelCrash'>여기</a>를 클릭하세요. \n",
      "\u001b[1;31m자세한 내용은 Jupyter <a href='command:jupyter.viewOutput'>로그</a>를 참조하세요."
     ]
    }
   ],
   "source": [
    "# 이미지를 그레이스케일로 읽기\n",
    "img = cv2.imread('images/cat.png', cv2.IMREAD_GRAYSCALE)\n",
    "\n",
    "# 이미지 표시\n",
    "cv2.imshow('Images', img)\n",
    "\n",
    "# 키 입력 대기\n",
    "key = cv2.waitKey(0)\n",
    "\n",
    "# 창 닫기\n",
    "cv2.destroyAllWindows()\n",
    "\n",
    "# macOS 환경에서 창 닫기 문제 해결 (백그라운드 이벤트 처리)\n",
    "cv2.waitKey(1)\n",
    "cv2.imwrite('images/cat.jpg',img)"
   ]
  },
  {
   "cell_type": "markdown",
   "metadata": {},
   "source": [
    "## 비디오 입출력"
   ]
  },
  {
   "cell_type": "code",
   "execution_count": null,
   "metadata": {},
   "outputs": [],
   "source": []
  }
 ],
 "metadata": {
  "kernelspec": {
   "display_name": "ai",
   "language": "python",
   "name": "python3"
  },
  "language_info": {
   "codemirror_mode": {
    "name": "ipython",
    "version": 3
   },
   "file_extension": ".py",
   "mimetype": "text/x-python",
   "name": "python",
   "nbconvert_exporter": "python",
   "pygments_lexer": "ipython3",
   "version": "3.9.11"
  }
 },
 "nbformat": 4,
 "nbformat_minor": 2
}
