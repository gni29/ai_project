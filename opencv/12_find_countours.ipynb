{
 "cells": [
  {
   "cell_type": "markdown",
   "metadata": {},
   "source": [
    "### 윤곽선 찾기"
   ]
  },
  {
   "cell_type": "code",
   "execution_count": 1,
   "metadata": {},
   "outputs": [],
   "source": [
    "import cv2\n",
    "import numpy as np"
   ]
  },
  {
   "cell_type": "code",
   "execution_count": 9,
   "metadata": {},
   "outputs": [],
   "source": [
    "path = 'images/cat.jpeg'"
   ]
  },
  {
   "cell_type": "code",
   "execution_count": null,
   "metadata": {},
   "outputs": [],
   "source": [
    "img = cv2.imread(path)\n",
    "target_img = img.copy()\n",
    "target_img_2 = img.copy()\n",
    "gray = cv2.cvtColor(target_img, cv2.COLOR_BGR2GRAY)\n",
    "gray_2 =cv2.cvtColor(target_img, cv2.COLOR_BGR2GRAY)\n",
    "\n",
    "ret, binary1 = cv2.threshold(gray, -1,255, cv2.THRESH_BINARY | cv2.THRESH_OTSU)\n",
    "ret, binary2 = cv2.threshold(gray_2, -1,255, cv2.THRESH_BINARY)\n",
    "contours, hierachy1 = cv2.findContours(binary1, cv2.RETR_LIST, cv2.CHAIN_APPROX_NONE)\n",
    "contours2, hierachy2 = cv2.findContours(binary2, cv2.RETR_EXTERNAL, cv2.CHAIN_APPROX_NONE)\n",
    "\n",
    "cv2.drawContours(target_img, contours, -1, (0,200,0),2)\n",
    "cv2.drawContours(target_img_2, contours2, -1, (0,200,0),2)\n",
    "\n",
    "cv2.imshow('contour',target_img)\n",
    "cv2.imshow('contour2',target_img_2)\n",
    "cv2.waitKey(0)\n",
    "cv2.destroyAllWindows()\n",
    "cv2.waitKey(1)"
   ]
  },
  {
   "cell_type": "code",
   "execution_count": 35,
   "metadata": {},
   "outputs": [
    {
     "data": {
      "text/plain": [
       "-1"
      ]
     },
     "execution_count": 35,
     "metadata": {},
     "output_type": "execute_result"
    }
   ],
   "source": [
    "card = 'images/cat.jpeg'\n",
    "img = cv2.imread(card)\n",
    "target_img = img.copy()\n",
    "gray = cv2.cvtColor(target_img,cv2.COLOR_BGR2GRAY)\n",
    "ret, otsu = cv2.threshold(gray, -1, 255, cv2.THRESH_BINARY | cv2.THRESH_OTSU)\n",
    "contours, hierachy = cv2.findContours(otsu, cv2.RETR_LIST, cv2.CHAIN_APPROX_NONE)\n",
    "for cnt in contours:\n",
    "    if cv2.contourArea(cnt) > 100:\n",
    "        x,y,width,height = cv2.boundingRect(cnt)\n",
    "        cv2.rectangle(target_img, (x,y), (x+width, y+height), (255,0,0),1, cv2.LINE_AA)\n",
    "\n",
    "cv2.imshow('contour',target_img)\n",
    "cv2.waitKey(0)\n",
    "cv2.destroyAllWindows()\n",
    "cv2.waitKey(1)"
   ]
  },
  {
   "cell_type": "markdown",
   "metadata": {},
   "source": [
    "## 실습 - 이모티콘 사각형"
   ]
  },
  {
   "cell_type": "code",
   "execution_count": 49,
   "metadata": {},
   "outputs": [
    {
     "data": {
      "text/plain": [
       "-1"
      ]
     },
     "execution_count": 49,
     "metadata": {},
     "output_type": "execute_result"
    }
   ],
   "source": [
    "vehicle = 'images/vehicles.png'\n",
    "name = 'index'\n",
    "window_name = 'contour'\n",
    "img = cv2.imread(vehicle)\n",
    "target_img = img.copy()\n",
    "gray = cv2.cvtColor(target_img,cv2.COLOR_BGR2GRAY)\n",
    "ret, otsu = cv2.threshold(gray, -1, 255, cv2.THRESH_BINARY | cv2.THRESH_OTSU)\n",
    "contours, hierachy = cv2.findContours(otsu, cv2.RETR_LIST, cv2.CHAIN_APPROX_NONE)\n",
    "contour_list = []\n",
    "for cnt in contours:\n",
    "    if cv2.contourArea(cnt) > 700:\n",
    "        x,y,width,height = cv2.boundingRect(cnt)\n",
    "        contour_list.append([(x,y),(x+width,y+height)])\n",
    "\n",
    "cv2.namedWindow(window_name)\n",
    "cv2.createTrackbar(name,window_name,0,len(contour_list)-1, lambda x : x)\n",
    "while True:\n",
    "    \n",
    "    index = cv2.getTrackbarPos('index',window_name)\n",
    "    target = img.copy()\n",
    "    cv2.rectangle(target,contour_list[index][0],contour_list[index][1], (255,0,0),1, cv2.LINE_AA)\n",
    "    cv2.imshow(window_name,target)\n",
    "    if cv2.waitKey(1) == ord('q'):\n",
    "        break\n",
    "cv2.imshow('contour',target_img)\n",
    "cv2.waitKey(0)\n",
    "cv2.destroyAllWindows()\n",
    "cv2.waitKey(1)"
   ]
  },
  {
   "cell_type": "markdown",
   "metadata": {},
   "source": [
    "### 실습 카드 하나씩 새 창에 표시"
   ]
  },
  {
   "cell_type": "code",
   "execution_count": 20,
   "metadata": {},
   "outputs": [
    {
     "data": {
      "text/plain": [
       "-1"
      ]
     },
     "execution_count": 20,
     "metadata": {},
     "output_type": "execute_result"
    }
   ],
   "source": [
    "# 단순무식\n",
    "card = 'images/playing_cards.png'\n",
    "name = 'index'\n",
    "window_name = 'contour'\n",
    "img = cv2.imread(card)\n",
    "target_img = img.copy()\n",
    "gray = cv2.cvtColor(target_img,cv2.COLOR_BGR2GRAY)\n",
    "ret, otsu = cv2.threshold(gray, -1, 255, cv2.THRESH_BINARY | cv2.THRESH_OTSU)\n",
    "contours, hierachy = cv2.findContours(otsu, cv2.RETR_LIST, cv2.CHAIN_APPROX_NONE)\n",
    "contour_list = []\n",
    "cv2.imshow('cards',img)\n",
    "for cnt in contours:\n",
    "    if cv2.contourArea(cnt) > 2000:\n",
    "        x,y,width,height = cv2.boundingRect(cnt)\n",
    "        contour_list.append([y,x,y+height,x+width])\n",
    "        \n",
    "card1 = img[contour_list[0][0]:contour_list[0][2],contour_list[0][1]:contour_list[0][3]]\n",
    "card2 = img[contour_list[1][0]:contour_list[1][2],contour_list[1][1]:contour_list[1][3]]\n",
    "card3 = img[contour_list[2][0]:contour_list[2][2],contour_list[2][1]:contour_list[2][3]]\n",
    "card4 = img[contour_list[3][0]:contour_list[3][2],contour_list[3][1]:contour_list[3][3]]\n",
    "cv2.imshow('card1',card1)\n",
    "cv2.imshow('card2',card2)\n",
    "cv2.imshow('card3',card3)\n",
    "cv2.imshow('card4',card4)\n",
    "cv2.waitKey(0)\n",
    "cv2.destroyAllWindows()\n",
    "cv2.waitKey(1)"
   ]
  },
  {
   "cell_type": "code",
   "execution_count": null,
   "metadata": {},
   "outputs": [
    {
     "data": {
      "text/plain": [
       "-1"
      ]
     },
     "execution_count": 28,
     "metadata": {},
     "output_type": "execute_result"
    }
   ],
   "source": [
    "# 딕셔너리로 자동화\n",
    "card = 'images/playing_cards.png'\n",
    "name = 'index'\n",
    "window_name = 'contour'\n",
    "img = cv2.imread(card)\n",
    "target_img = img.copy()\n",
    "gray = cv2.cvtColor(target_img,cv2.COLOR_BGR2GRAY)\n",
    "ret, otsu = cv2.threshold(gray, -1, 255, cv2.THRESH_BINARY | cv2.THRESH_OTSU)\n",
    "contours, hierachy = cv2.findContours(otsu, cv2.RETR_LIST, cv2.CHAIN_APPROX_NONE)\n",
    "contour_list = []\n",
    "card = {}\n",
    "cv2.imshow('cards',img)\n",
    "i = 0\n",
    "for cnt in contours:\n",
    "    if cv2.contourArea(cnt) > 2000:\n",
    "        i+=1\n",
    "        x,y,width,height = cv2.boundingRect(cnt)\n",
    "        contour_list.append([y,x,y+height,x+width])\n",
    "        card[i] = img[y:y+height,x:x+width]\n",
    "for i in card.keys():\n",
    "    cv2.imshow(f'card_{i}',card[i])\n",
    "cv2.waitKey(0)\n",
    "cv2.destroyAllWindows()\n",
    "cv2.waitKey(1)"
   ]
  },
  {
   "cell_type": "markdown",
   "metadata": {},
   "source": [
    "## 트랙바를 이용해서 선택된 카드에 표시하고, 해당 카드를 새창에 확대해서 출력"
   ]
  },
  {
   "cell_type": "code",
   "execution_count": null,
   "metadata": {},
   "outputs": [
    {
     "data": {
      "text/plain": [
       "-1"
      ]
     },
     "execution_count": 47,
     "metadata": {},
     "output_type": "execute_result"
    }
   ],
   "source": [
    "card = 'images/many_cards.png'\n",
    "name = 'index'\n",
    "window_name = 'cards'\n",
    "img = cv2.imread(card)\n",
    "target_img = img.copy()\n",
    "gray = cv2.cvtColor(target_img,cv2.COLOR_BGR2GRAY)\n",
    "ret, otsu = cv2.threshold(gray, -1, 255, cv2.THRESH_BINARY | cv2.THRESH_OTSU)\n",
    "contours, hierachy = cv2.findContours(otsu, cv2.RETR_LIST, cv2.CHAIN_APPROX_NONE)\n",
    "contour_list = []\n",
    "card = {}\n",
    "i = 0\n",
    "for cnt in contours:\n",
    "    if cv2.contourArea(cnt) > 2000:\n",
    "        i+=1\n",
    "        x,y,width,height = cv2.boundingRect(cnt)\n",
    "        contour_list.append([y,x,y+height,x+width])\n",
    "        card[i] = [(x,y),(x+width,y+height),img[y:y+height,x:x+width]]\n",
    "\n",
    "cv2.namedWindow(window_name)\n",
    "cv2.createTrackbar(name,window_name,1,len(card), lambda x : x)\n",
    "\n",
    "while True:\n",
    "\n",
    "    index = cv2.getTrackbarPos('index',window_name)\n",
    "    target = img.copy()\n",
    "    cv2.rectangle(target,card[index][0],card[index][1], (0,0,255),5, cv2.LINE_AA) ### 선택된 카드에 사각형 표시\n",
    "    custom_size = (img.shape[1] * 5 , img.shape[0] * 5) ### 해당 카드 확대\n",
    "    size_up = cv2.pyrUp(card[index][2],custom_size)\n",
    "\n",
    "    cv2.imshow(window_name,target)\n",
    "    cv2.imshow('card',size_up)\n",
    "    \n",
    "    if cv2.waitKey(1) == ord('q'):\n",
    "        break\n",
    "    \n",
    "cv2.waitKey(0)\n",
    "cv2.destroyAllWindows()\n",
    "cv2.waitKey(1)"
   ]
  },
  {
   "cell_type": "code",
   "execution_count": null,
   "metadata": {},
   "outputs": [],
   "source": []
  }
 ],
 "metadata": {
  "kernelspec": {
   "display_name": "ai",
   "language": "python",
   "name": "python3"
  },
  "language_info": {
   "codemirror_mode": {
    "name": "ipython",
    "version": 3
   },
   "file_extension": ".py",
   "mimetype": "text/x-python",
   "name": "python",
   "nbconvert_exporter": "python",
   "pygments_lexer": "ipython3",
   "version": "3.9.11"
  }
 },
 "nbformat": 4,
 "nbformat_minor": 2
}
