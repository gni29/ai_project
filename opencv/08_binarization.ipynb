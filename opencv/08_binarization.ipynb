{
 "cells": [
  {
   "cell_type": "markdown",
   "metadata": {},
   "source": [
    "## 이진화"
   ]
  },
  {
   "cell_type": "code",
   "execution_count": 1,
   "metadata": {},
   "outputs": [],
   "source": [
    "import cv2\n",
    "import numpy as np"
   ]
  },
  {
   "cell_type": "code",
   "execution_count": 39,
   "metadata": {},
   "outputs": [
    {
     "data": {
      "text/plain": [
       "-1"
      ]
     },
     "execution_count": 39,
     "metadata": {},
     "output_type": "execute_result"
    }
   ],
   "source": [
    "path = 'images/share_symmetric.jpg'\n",
    "img = cv2.imread(path)\n",
    "trackbar_blue = 'blue'\n",
    "trackbar_green = 'green'\n",
    "trackbar_red = 'red'\n",
    "name = 'trackbar'\n",
    "cv2.namedWindow(name)\n",
    "cv2.createTrackbar(trackbar_blue,name,0,255,lambda x: x)\n",
    "cv2.createTrackbar(trackbar_green,name,0,255,lambda x: x)\n",
    "cv2.createTrackbar(trackbar_red,name,0,255,lambda x: x)\n",
    "while True:\n",
    "    blue = cv2.getTrackbarPos(trackbar_blue,name)\n",
    "    green = cv2.getTrackbarPos(trackbar_green,name)\n",
    "    red = cv2.getTrackbarPos(trackbar_red,name)\n",
    "    b,g,r = cv2.split(img)\n",
    "    ret_blue, b_changed = cv2.threshold(b,blue,255,cv2.THRESH_BINARY)\n",
    "    ret_green, g_changed = cv2.threshold(g,green,255,cv2.THRESH_BINARY)\n",
    "    ret_red , r_changed = cv2.threshold(r,red,255,cv2.THRESH_BINARY)\n",
    "    bgr_changed = cv2.merge([b_changed,g_changed,r_changed])\n",
    "    cv2.imshow(name,bgr_changed)\n",
    "    if cv2.waitKey(1) == ord('q'):\n",
    "        break\n",
    "    \n",
    "\n",
    "cv2.destroyAllWindows()\n",
    "\n",
    "cv2.waitKey(1)\n"
   ]
  },
  {
   "cell_type": "markdown",
   "metadata": {},
   "source": [
    "## 실습"
   ]
  },
  {
   "cell_type": "code",
   "execution_count": 66,
   "metadata": {},
   "outputs": [
    {
     "data": {
      "text/plain": [
       "-1"
      ]
     },
     "execution_count": 66,
     "metadata": {},
     "output_type": "execute_result"
    }
   ],
   "source": [
    "img = np.zeros((400,600,3), dtype = np.uint8)\n",
    "trackbar_blue = 'blue'\n",
    "trackbar_green = 'green'\n",
    "trackbar_red = 'red'\n",
    "name = 'trackbar'\n",
    "cv2.namedWindow(name)\n",
    "cv2.createTrackbar(trackbar_blue,name,0,255,lambda x: x)\n",
    "cv2.createTrackbar(trackbar_green,name,0,255,lambda x: x)\n",
    "cv2.createTrackbar(trackbar_red,name,0,255,lambda x: x)\n",
    "cv2.createTrackbar('switch',name,0,1, lambda x : x)\n",
    "while True:\n",
    "    blue = cv2.getTrackbarPos(trackbar_blue,name)\n",
    "    green = cv2.getTrackbarPos(trackbar_green,name)\n",
    "    red = cv2.getTrackbarPos(trackbar_red,name)\n",
    "    button = cv2.getTrackbarPos('switch',name)\n",
    "    if button == 0:\n",
    "        img[:] = 0\n",
    "    else :\n",
    "        img[:] = [blue,green,red]\n",
    "    \n",
    "    cv2.imshow(name,img)\n",
    "    if cv2.waitKey(1) == ord('q'):\n",
    "        break\n",
    "    \n",
    "\n",
    "cv2.destroyAllWindows()\n",
    "\n",
    "cv2.waitKey(1)"
   ]
  },
  {
   "cell_type": "code",
   "execution_count": 64,
   "metadata": {},
   "outputs": [
    {
     "data": {
      "text/plain": [
       "-1"
      ]
     },
     "execution_count": 64,
     "metadata": {},
     "output_type": "execute_result"
    }
   ],
   "source": [
    "import cv2\n",
    "import numpy as np\n",
    "\n",
    "# 초기 이미지 생성\n",
    "img = np.zeros((400, 600, 3), dtype=np.uint8)\n",
    "\n",
    "# 윈도우 이름\n",
    "name = 'Trackbar Example'\n",
    "\n",
    "# 트랙바 이름\n",
    "trackbar_blue = 'Blue'\n",
    "trackbar_green = 'Green'\n",
    "trackbar_red = 'Red'\n",
    "\n",
    "# 윈도우 생성\n",
    "cv2.namedWindow(name)\n",
    "\n",
    "# 트랙바 생성\n",
    "cv2.createTrackbar(trackbar_blue, name, 0, 255, lambda x: None)\n",
    "cv2.createTrackbar(trackbar_green, name, 0, 255, lambda x: None)\n",
    "cv2.createTrackbar(trackbar_red, name, 0, 255, lambda x: None)\n",
    "\n",
    "# 변수 설정\n",
    "reset_flag = False\n",
    "\n",
    "while True:\n",
    "    # 트랙바에서 현재 값 읽기\n",
    "    blue = cv2.getTrackbarPos(trackbar_blue, name)\n",
    "    green = cv2.getTrackbarPos(trackbar_green, name)\n",
    "    red = cv2.getTrackbarPos(trackbar_red, name)\n",
    "\n",
    "    # 'r' 키를 눌렀을 때 색상 초기화\n",
    "    if reset_flag:\n",
    "        blue, green, red = 0, 0, 0\n",
    "        cv2.setTrackbarPos(trackbar_blue, name, 0)\n",
    "        cv2.setTrackbarPos(trackbar_green, name, 0)\n",
    "        cv2.setTrackbarPos(trackbar_red, name, 0)\n",
    "        reset_flag = False\n",
    "\n",
    "    # 이미지 업데이트\n",
    "    img[:] = [blue, green, red]\n",
    "\n",
    "    # 이미지 표시\n",
    "    cv2.imshow(name, img)\n",
    "\n",
    "    # 'q'를 누르면 종료\n",
    "    if cv2.waitKey(1) == ord('q'):\n",
    "        break\n",
    "\n",
    "    # 'r'를 누르면 색상 초기화\n",
    "    if cv2.waitKey(1) == ord('r'):\n",
    "        reset_flag = True\n",
    "\n",
    "# 모든 윈도우 닫기\n",
    "cv2.destroyAllWindows()\n",
    "cv2.waitKey(1)"
   ]
  },
  {
   "cell_type": "markdown",
   "metadata": {},
   "source": [
    "## 적응형 이진화\n"
   ]
  },
  {
   "cell_type": "code",
   "execution_count": 75,
   "metadata": {},
   "outputs": [
    {
     "data": {
      "text/plain": [
       "-1"
      ]
     },
     "execution_count": 75,
     "metadata": {},
     "output_type": "execute_result"
    }
   ],
   "source": [
    "img = cv2.imread('images/book.jpg', cv2.IMREAD_GRAYSCALE)\n",
    "name = 'Adaptive'\n",
    "cv2.namedWindow(name)\n",
    "\n",
    "cv2.createTrackbar('block_size',name,25,100, lambda x : x)\n",
    "cv2.createTrackbar('c',name,1,10, lambda x : x)\n",
    "while True:\n",
    "    block_size = cv2.getTrackbarPos('block_size',name)\n",
    "    c = cv2.getTrackbarPos(\"c\",name)\n",
    "    if block_size <= 1:\n",
    "        block_size = 3\n",
    "    if block_size%2 == 0:\n",
    "        block_size += 1\n",
    "    binary = cv2.adaptiveThreshold(img,255,cv2.ADAPTIVE_THRESH_MEAN_C, cv2.THRESH_BINARY,block_size,c)\n",
    "    cv2.imshow('img',img)\n",
    "    cv2.imshow(name,binary)\n",
    "    if cv2.waitKey(1) == ord('q'):\n",
    "        break\n",
    "cv2.waitKey(0)\n",
    "cv2.destroyAllWindows()\n",
    "\n",
    "cv2.waitKey(1)\n"
   ]
  },
  {
   "cell_type": "code",
   "execution_count": null,
   "metadata": {},
   "outputs": [],
   "source": []
  },
  {
   "cell_type": "code",
   "execution_count": null,
   "metadata": {},
   "outputs": [],
   "source": []
  },
  {
   "cell_type": "code",
   "execution_count": null,
   "metadata": {},
   "outputs": [],
   "source": []
  }
 ],
 "metadata": {
  "kernelspec": {
   "display_name": "ai",
   "language": "python",
   "name": "python3"
  },
  "language_info": {
   "codemirror_mode": {
    "name": "ipython",
    "version": 3
   },
   "file_extension": ".py",
   "mimetype": "text/x-python",
   "name": "python",
   "nbconvert_exporter": "python",
   "pygments_lexer": "ipython3",
   "version": "3.9.11"
  }
 },
 "nbformat": 4,
 "nbformat_minor": 2
}
