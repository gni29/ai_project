{
 "cells": [
  {
   "cell_type": "code",
   "execution_count": 1,
   "metadata": {},
   "outputs": [],
   "source": [
    "import cv2\n",
    "import numpy as np"
   ]
  },
  {
   "cell_type": "markdown",
   "metadata": {},
   "source": [
    "### 도형 그리기"
   ]
  },
  {
   "cell_type": "markdown",
   "metadata": {},
   "source": [
    "### 빈 화면 만들기"
   ]
  },
  {
   "cell_type": "code",
   "execution_count": 2,
   "metadata": {},
   "outputs": [
    {
     "name": "stderr",
     "output_type": "stream",
     "text": [
      "2025-01-04 12:12:00.099 Python[13391:24430443] +[IMKClient subclass]: chose IMKClient_Modern\n",
      "2025-01-04 12:12:00.099 Python[13391:24430443] +[IMKInputSession subclass]: chose IMKInputSession_Modern\n"
     ]
    },
    {
     "data": {
      "text/plain": [
       "-1"
      ]
     },
     "execution_count": 2,
     "metadata": {},
     "output_type": "execute_result"
    }
   ],
   "source": [
    "img  = np.zeros((460,640,3), dtype = np.uint8)\n",
    "cv2.imshow(\"img\",img)\n",
    "cv2.waitKey(0)\n",
    "cv2.destroyAllWindows()\n",
    "cv2.waitKey(1)"
   ]
  },
  {
   "cell_type": "code",
   "execution_count": 16,
   "metadata": {},
   "outputs": [
    {
     "data": {
      "text/plain": [
       "-1"
      ]
     },
     "execution_count": 16,
     "metadata": {},
     "output_type": "execute_result"
    }
   ],
   "source": [
    "img  = np.zeros((460,640,3), dtype = np.uint8)\n",
    "img[100:200, 100:300] = (150,150,0) ## BGR 순서로 되있음\n",
    "cv2.imshow(\"img\",img)\n",
    "cv2.waitKey(0)\n",
    "cv2.destroyAllWindows()\n",
    "cv2.waitKey(1)\n"
   ]
  },
  {
   "cell_type": "markdown",
   "metadata": {},
   "source": [
    "##"
   ]
  },
  {
   "cell_type": "markdown",
   "metadata": {},
   "source": [
    "### 선그리기"
   ]
  },
  {
   "cell_type": "code",
   "execution_count": 27,
   "metadata": {},
   "outputs": [
    {
     "data": {
      "text/plain": [
       "-1"
      ]
     },
     "execution_count": 27,
     "metadata": {},
     "output_type": "execute_result"
    }
   ],
   "source": [
    "img[:,:] = (0,0,0)\n",
    "cv2.line(img=img, pt1=(0,0),pt2=(460,640), color=(0,255,255),thickness=3, lineType= cv2.LINE_4)\n",
    "cv2.line(img=img, pt1=(0,460),pt2=(640,0), color=(0,255,255),thickness=3, lineType= cv2.LINE_8)\n",
    "cv2.line(img=img, pt1=(100,50),pt2=(50,400), color=(0,255,255),thickness=3, lineType= cv2.LINE_AA)\n",
    "cv2.imshow('img',img)\n",
    "cv2.waitKey(0)\n",
    "cv2.destroyAllWindows()\n",
    "cv2.waitKey(1)"
   ]
  },
  {
   "cell_type": "markdown",
   "metadata": {},
   "source": [
    "### 원그리기"
   ]
  },
  {
   "cell_type": "code",
   "execution_count": 36,
   "metadata": {},
   "outputs": [
    {
     "data": {
      "text/plain": [
       "-1"
      ]
     },
     "execution_count": 36,
     "metadata": {},
     "output_type": "execute_result"
    }
   ],
   "source": [
    "img[:,:] = (0,0,0)\n",
    "cv2.circle(img=img, center=(340,350),radius=30, color = (255,174,100),thickness = -1)\n",
    "cv2.circle(img=img, center=(270,350),radius=50, color = (0,160,100),thickness = -1)\n",
    "cv2.imshow('img',img)\n",
    "cv2.waitKey(0)\n",
    "cv2.destroyAllWindows()\n",
    "cv2.waitKey(1)"
   ]
  },
  {
   "cell_type": "markdown",
   "metadata": {},
   "source": [
    "### 타원 그리기"
   ]
  },
  {
   "cell_type": "code",
   "execution_count": 45,
   "metadata": {},
   "outputs": [
    {
     "data": {
      "text/plain": [
       "-1"
      ]
     },
     "execution_count": 45,
     "metadata": {},
     "output_type": "execute_result"
    }
   ],
   "source": [
    "img[:,:] = (0,0,0)\n",
    "cv2.ellipse(img=img, center = (250,250), axes = (100,200), angle = 0, \n",
    "            startAngle= 180,endAngle=0, color = (0,0,255),lineType=cv2.LINE_AA, thickness = -1)\n",
    "cv2.line(img, pt1 = (250,125),pt2 = (250,640), color=(0,0,0),thickness=3, lineType= cv2.LINE_8)\n",
    "cv2.imshow('img',img)\n",
    "cv2.waitKey(0)\n",
    "cv2.destroyAllWindows()\n",
    "cv2.waitKey(1)"
   ]
  },
  {
   "cell_type": "code",
   "execution_count": 50,
   "metadata": {},
   "outputs": [
    {
     "data": {
      "text/plain": [
       "-1"
      ]
     },
     "execution_count": 50,
     "metadata": {},
     "output_type": "execute_result"
    }
   ],
   "source": [
    "img[:,:] = (0,0,0)\n",
    "cv2.rectangle(img, pt1 = (125,125), pt2 = (200,200), color = (0,0,255),lineType=cv2.LINE_AA, thickness = -1)\n",
    "cv2.rectangle(img, pt1 = (0,125), pt2 = (10,200), color = (0,255,125),lineType=cv2.LINE_AA, thickness = 1)\n",
    "cv2.imshow('img',img)\n",
    "cv2.waitKey(0)\n",
    "cv2.destroyAllWindows()\n",
    "cv2.waitKey(1)"
   ]
  },
  {
   "cell_type": "markdown",
   "metadata": {},
   "source": [
    "## 다각형 (선)"
   ]
  },
  {
   "cell_type": "code",
   "execution_count": 59,
   "metadata": {},
   "outputs": [
    {
     "data": {
      "text/plain": [
       "-1"
      ]
     },
     "execution_count": 59,
     "metadata": {},
     "output_type": "execute_result"
    }
   ],
   "source": [
    "pts = np.array([[100, 100], [200, 200], [100, 300]], dtype=np.int32)\n",
    "\n",
    "img[:,:] = (0,0,0)\n",
    "cv2.polylines(img, [pts], isClosed=False, color=(200, 100, 255), thickness=5)\n",
    "cv2.imshow('img',img)\n",
    "cv2.waitKey(0)\n",
    "cv2.destroyAllWindows()\n",
    "cv2.waitKey(1)"
   ]
  },
  {
   "cell_type": "markdown",
   "metadata": {},
   "source": [
    "## 실습"
   ]
  },
  {
   "cell_type": "code",
   "execution_count": 78,
   "metadata": {},
   "outputs": [
    {
     "data": {
      "text/plain": [
       "-1"
      ]
     },
     "execution_count": 78,
     "metadata": {},
     "output_type": "execute_result"
    },
    {
     "ename": "",
     "evalue": "",
     "output_type": "error",
     "traceback": [
      "\u001b[1;31m현재 셀 또는 이전 셀에서 코드를 실행하는 동안 Kernel이 충돌했습니다. \n",
      "\u001b[1;31m셀의 코드를 검토하여 가능한 오류 원인을 식별하세요. \n",
      "\u001b[1;31m자세한 내용을 보려면 <a href='https://aka.ms/vscodeJupyterKernelCrash'>여기</a>를 클릭하세요. \n",
      "\u001b[1;31m자세한 내용은 Jupyter <a href='command:jupyter.viewOutput'>로그</a>를 참조하세요."
     ]
    }
   ],
   "source": [
    "img  = np.zeros((460,640,3), dtype = np.uint8)\n",
    "cv2.circle(img= img, center = (300,460),radius = 100,color = (125,200,140),thickness = -1)\n",
    "cv2.ellipse(img=img, center = (250,250), axes = (100,200), angle = 0, \n",
    "            startAngle= 180,endAngle=0, color = (0,0,255),lineType=cv2.LINE_AA, thickness = -1)\n",
    "cv2.line(img, pt1 = (250,125),pt2 = (250,640), color=(0,0,0),thickness=3, lineType= cv2.LINE_8)\n",
    "cv2.rectangle(img= img, pt1 = (200,640),pt2 =(100,320),color = (0,255,125),thickness= -1)\n",
    "cv2.polylines(img = img, pts = [np.array([[100,100],[200,125],[125,300]], dtype = np.int32)], color = (255,255,255),isClosed= False,thickness= 7)\n",
    "cv2.polylines(img = img, pts = [np.array([[0,0],[125,125],[200,200],[200,125],[125,0]], dtype = np.int32)], \n",
    "              color = (255,255,255),isClosed= True,thickness= 7)\n",
    "cv2.imshow('img',img)\n",
    "cv2.waitKey(0)\n",
    "cv2.destroyAllWindows()\n",
    "cv2.waitKey(1)"
   ]
  },
  {
   "cell_type": "markdown",
   "metadata": {},
   "source": []
  },
  {
   "cell_type": "code",
   "execution_count": null,
   "metadata": {},
   "outputs": [],
   "source": []
  }
 ],
 "metadata": {
  "kernelspec": {
   "display_name": "ai",
   "language": "python",
   "name": "python3"
  },
  "language_info": {
   "codemirror_mode": {
    "name": "ipython",
    "version": 3
   },
   "file_extension": ".py",
   "mimetype": "text/x-python",
   "name": "python",
   "nbconvert_exporter": "python",
   "pygments_lexer": "ipython3",
   "version": "3.9.11"
  }
 },
 "nbformat": 4,
 "nbformat_minor": 2
}
