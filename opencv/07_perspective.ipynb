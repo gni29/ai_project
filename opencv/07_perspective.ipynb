{
 "cells": [
  {
   "cell_type": "markdown",
   "metadata": {},
   "source": [
    "## 원근 변환"
   ]
  },
  {
   "cell_type": "code",
   "execution_count": 1,
   "metadata": {},
   "outputs": [],
   "source": [
    "path = 'images/card.jpg'\n",
    "import cv2\n",
    "import numpy as np"
   ]
  },
  {
   "cell_type": "code",
   "execution_count": 2,
   "metadata": {},
   "outputs": [
    {
     "name": "stderr",
     "output_type": "stream",
     "text": [
      "2025-01-04 10:27:59.526 Python[9755:24088712] +[IMKClient subclass]: chose IMKClient_Modern\n",
      "2025-01-04 10:27:59.526 Python[9755:24088712] +[IMKInputSession subclass]: chose IMKInputSession_Modern\n"
     ]
    },
    {
     "data": {
      "text/plain": [
       "-1"
      ]
     },
     "execution_count": 2,
     "metadata": {},
     "output_type": "execute_result"
    }
   ],
   "source": [
    "img = cv2.imread(path)\n",
    "width, height = 600, 250\n",
    "src = np.array([[54,261],[981,128],[1213,560],[194,735]],dtype = np.float32)\n",
    "dst = np.array([[0,0],[width,0],[width,height],[0,height]], dtype = np.float32)\n",
    "mat = cv2. getPerspectiveTransform(src,dst)\n",
    "result = cv2.warpPerspective(img,mat, (width,height))\n",
    "\n",
    "cv2.imshow(\"original\",img)\n",
    "cv2.imshow(\"perspective\",result)\n",
    "cv2.waitKey(0)\n",
    "cv2.destroyAllWindows()\n",
    "cv2.waitKey(1)"
   ]
  },
  {
   "cell_type": "code",
   "execution_count": null,
   "metadata": {},
   "outputs": [
    {
     "data": {
      "text/plain": [
       "-1"
      ]
     },
     "execution_count": 19,
     "metadata": {},
     "output_type": "execute_result"
    },
    {
     "ename": "",
     "evalue": "",
     "output_type": "error",
     "traceback": [
      "\u001b[1;31m현재 셀 또는 이전 셀에서 코드를 실행하는 동안 Kernel이 충돌했습니다. \n",
      "\u001b[1;31m셀의 코드를 검토하여 가능한 오류 원인을 식별하세요. \n",
      "\u001b[1;31m자세한 내용을 보려면 <a href='https://aka.ms/vscodeJupyterKernelCrash'>여기</a>를 클릭하세요. \n",
      "\u001b[1;31m자세한 내용은 Jupyter <a href='command:jupyter.viewOutput'>로그</a>를 참조하세요."
     ]
    }
   ],
   "source": [
    "path = 'images/fall.jpg'\n",
    "img = cv2.imread(path)\n",
    "width,height =1920,2560\n",
    "src = np.array([[200,476],[288,277],[675,242],[732,445]],dtype = np.float32)\n",
    "dst = np.array([[0,0],[width,0],[width,height],[0,height]], dtype = np.float32)\n",
    "mat = cv2.getPerspectiveTransform(src,dst)\n",
    "result = cv2.warpPerspective(img,mat,(width,height))\n",
    "\n",
    "cv2.imshow(\"original\",img)\n",
    "cv2.imshow(\"perspective\",result)\n",
    "cv2.waitKey(0)\n",
    "cv2.destroyAllWindows()\n",
    "cv2.waitKey(1)\n",
    "\n"
   ]
  },
  {
   "cell_type": "code",
   "execution_count": null,
   "metadata": {},
   "outputs": [],
   "source": []
  }
 ],
 "metadata": {
  "kernelspec": {
   "display_name": "ai",
   "language": "python",
   "name": "python3"
  },
  "language_info": {
   "codemirror_mode": {
    "name": "ipython",
    "version": 3
   },
   "file_extension": ".py",
   "mimetype": "text/x-python",
   "name": "python",
   "nbconvert_exporter": "python",
   "pygments_lexer": "ipython3",
   "version": "3.9.11"
  }
 },
 "nbformat": 4,
 "nbformat_minor": 2
}
