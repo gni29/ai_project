{
 "cells": [
  {
   "cell_type": "markdown",
   "metadata": {},
   "source": [
    "### 마우스 이벤트"
   ]
  },
  {
   "cell_type": "code",
   "execution_count": 1,
   "metadata": {},
   "outputs": [],
   "source": [
    "import cv2\n",
    "import numpy as np\n",
    "path = 'images/MainAfter.jpg'\n"
   ]
  },
  {
   "cell_type": "code",
   "execution_count": 4,
   "metadata": {},
   "outputs": [],
   "source": [
    "path = 'images/MainAfter.jpg'\n"
   ]
  },
  {
   "cell_type": "code",
   "execution_count": null,
   "metadata": {},
   "outputs": [],
   "source": [
    "img = cv2.imread(path)\n",
    "def on_mouse(event,x,y,flags, _):\n",
    "    print(event)\n",
    "name = 'mouse event'\n",
    "cv2.namedWindow(name)\n",
    "cv2.setMouseCallback(name, on_mouse)\n",
    "cv2.imshow(name,img)\n",
    "cv2.waitKey(0)\n",
    "cv2.destroyAllWindows()\n",
    "cv2.waitKey(1)\n"
   ]
  },
  {
   "cell_type": "code",
   "execution_count": null,
   "metadata": {},
   "outputs": [],
   "source": [
    "img = cv2.imread(path)\n",
    "def on_mouse(event,x,y,flags, _):\n",
    "    if event == cv2.EVENT_FLAG_LBUTTON:\n",
    "        coppied = img.copy()\n",
    "        cv2.circle(coppied,(x,y),1,(0,0,0),-1)\n",
    "        cv2.imshow(name,coppied)\n",
    "name = 'mouse event'\n",
    "cv2.namedWindow(name)\n",
    "cv2.setMouseCallback(name, on_mouse)\n",
    "cv2.imshow(name,img)\n",
    "cv2.waitKey(0)\n",
    "cv2.destroyAllWindows()\n",
    "cv2.waitKey(1)"
   ]
  },
  {
   "cell_type": "markdown",
   "metadata": {},
   "source": [
    "## 미니 프로젝트"
   ]
  },
  {
   "cell_type": "code",
   "execution_count": 3,
   "metadata": {},
   "outputs": [
    {
     "name": "stderr",
     "output_type": "stream",
     "text": [
      "2025-01-06 11:57:49.457 Python[35825:29436578] error messaging the mach port for IMKCFRunLoopWakeUpReliable\n"
     ]
    },
    {
     "data": {
      "text/plain": [
       "-1"
      ]
     },
     "execution_count": 3,
     "metadata": {},
     "output_type": "execute_result"
    }
   ],
   "source": [
    "import cv2\n",
    "import numpy as np\n",
    "\n",
    "# 이미지 경로 설정\n",
    "path = 'images/fall.jpg'\n",
    "img = cv2.imread(path)\n",
    "\n",
    "# 좌표 리스트와 상태 변수 초기화\n",
    "xy_list = []\n",
    "drawing = False\n",
    "\n",
    "# 마우스 이벤트 콜백 함수\n",
    "def dot(event, x, y, flags, param):\n",
    "    global xy_list, drawing, img\n",
    "\n",
    "    # 왼쪽 버튼 클릭 시\n",
    "    if event == cv2.EVENT_LBUTTONDOWN:\n",
    "        if len(xy_list) < 4:\n",
    "            xy_list.append((x, y))\n",
    "            cv2.circle(img, (x, y), 5, (0, 0, 0), -1)\n",
    "            if len(xy_list) > 1:\n",
    "                cv2.line(img, xy_list[-2], xy_list[-1], (0, 0, 0), 2, cv2.LINE_AA)\n",
    "            cv2.imshow(name, img)\n",
    "\n",
    "        # 4개의 점이 선택되면 사각형 완성 및 투시 변환\n",
    "        if len(xy_list) == 4:\n",
    "            cv2.line(img, xy_list[3], xy_list[0], (0, 0, 0), 2, cv2.LINE_AA)\n",
    "            cv2.imshow(name, img)\n",
    "            width, height = 400, 640\n",
    "            src = np.array(xy_list, dtype=np.float32)\n",
    "            dst = np.array([[0, 0], [width, 0], [width, height], [0, height]], dtype=np.float32)\n",
    "            mat = cv2.getPerspectiveTransform(src, dst)\n",
    "            result = cv2.warpPerspective(img, mat, (width, height))\n",
    "            cv2.imshow('Result', result)\n",
    "\n",
    "\n",
    "# 윈도우 이름 설정\n",
    "name = 'mouse event'\n",
    "cv2.namedWindow(name)\n",
    "cv2.setMouseCallback(name, dot)\n",
    "cv2.imshow(name, img)\n",
    "cv2.waitKey(0)\n",
    "cv2.destroyAllWindows()\n",
    "cv2.waitKey(1)"
   ]
  },
  {
   "cell_type": "code",
   "execution_count": null,
   "metadata": {},
   "outputs": [
    {
     "data": {
      "text/plain": [
       "-1"
      ]
     },
     "execution_count": 4,
     "metadata": {},
     "output_type": "execute_result"
    },
    {
     "ename": "",
     "evalue": "",
     "output_type": "error",
     "traceback": [
      "\u001b[1;31m현재 셀 또는 이전 셀에서 코드를 실행하는 동안 Kernel이 충돌했습니다. \n",
      "\u001b[1;31m셀의 코드를 검토하여 가능한 오류 원인을 식별하세요. \n",
      "\u001b[1;31m자세한 내용을 보려면 <a href='https://aka.ms/vscodeJupyterKernelCrash'>여기</a>를 클릭하세요. \n",
      "\u001b[1;31m자세한 내용은 Jupyter <a href='command:jupyter.viewOutput'>로그</a>를 참조하세요."
     ]
    }
   ],
   "source": [
    "import cv2\n",
    "import numpy as np\n",
    "\n",
    "path = 'images/fall.jpg'\n",
    "img = cv2.imread(path)\n",
    "original = img.copy()  # 원본 이미지 저장\n",
    "xy_list = []  # 클릭된 좌표 저장 리스트\n",
    "\n",
    "def dot(event, x, y, flags, _):\n",
    "    global xy_list, img, original\n",
    "\n",
    "    # 왼쪽 버튼 클릭 시\n",
    "    if event == cv2.EVENT_LBUTTONDOWN:\n",
    "        if len(xy_list) < 4:\n",
    "            xy_list.append((x, y))\n",
    "            cv2.circle(img, (x, y), 5, (0, 0, 0), -1)  # 점 그리기\n",
    "            if len(xy_list) > 1:\n",
    "                cv2.line(img, xy_list[-2], xy_list[-1], (0, 0, 0), 2, cv2.LINE_AA)  # 선 연결\n",
    "            cv2.imshow(name, img)\n",
    "\n",
    "        # 4개의 점이 선택되면 투시 변환 수행\n",
    "        if len(xy_list) == 4:\n",
    "            cv2.line(img, xy_list[3], xy_list[0], (0, 0, 0), 2, cv2.LINE_AA)  # 마지막 선 연결\n",
    "            cv2.imshow(name, img)\n",
    "            width, height = 400, 640\n",
    "            src = np.array(xy_list, dtype=np.float32)\n",
    "            dst = np.array([[0, 0], [width, 0], [width, height], [0, height]], dtype=np.float32)\n",
    "            mat = cv2.getPerspectiveTransform(src, dst)\n",
    "            result = cv2.warpPerspective(original, mat, (width, height))\n",
    "            cv2.imshow('Result', result)\n",
    "\n",
    "    # 마우스 이동 시 임시 선 표시\n",
    "    elif event == cv2.EVENT_MOUSEMOVE and len(xy_list) > 0:\n",
    "        temp_img = img.copy()\n",
    "        cv2.line(temp_img, xy_list[-1], (x, y), (0, 0, 0), 1, cv2.LINE_AA)  # 가이드라인\n",
    "        cv2.imshow(name, temp_img)\n",
    "\n",
    "# 윈도우 생성 및 콜백 등록\n",
    "name = 'mouse event'\n",
    "cv2.namedWindow(name)\n",
    "cv2.setMouseCallback(name, dot)\n",
    "cv2.imshow(name, img)\n",
    "cv2.waitKey(0)\n",
    "cv2.destroyAllWindows()\n",
    "cv2.waitKey(1)"
   ]
  },
  {
   "cell_type": "code",
   "execution_count": null,
   "metadata": {},
   "outputs": [],
   "source": []
  }
 ],
 "metadata": {
  "kernelspec": {
   "display_name": "ai",
   "language": "python",
   "name": "python3"
  },
  "language_info": {
   "codemirror_mode": {
    "name": "ipython",
    "version": 3
   },
   "file_extension": ".py",
   "mimetype": "text/x-python",
   "name": "python",
   "nbconvert_exporter": "python",
   "pygments_lexer": "ipython3",
   "version": "3.9.11"
  }
 },
 "nbformat": 4,
 "nbformat_minor": 2
}
