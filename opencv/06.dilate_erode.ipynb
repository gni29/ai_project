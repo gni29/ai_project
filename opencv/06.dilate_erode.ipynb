{
 "cells": [
  {
   "cell_type": "markdown",
   "metadata": {},
   "source": [
    "## 팽창과 침식"
   ]
  },
  {
   "cell_type": "code",
   "execution_count": 2,
   "metadata": {},
   "outputs": [],
   "source": [
    "import cv2\n",
    "import numpy as np"
   ]
  },
  {
   "cell_type": "code",
   "execution_count": 4,
   "metadata": {},
   "outputs": [],
   "source": [
    "dilate = 'images/dilate.png'\n",
    "erode ='images/erode.png'\n"
   ]
  },
  {
   "cell_type": "code",
   "execution_count": null,
   "metadata": {},
   "outputs": [
    {
     "name": "stderr",
     "output_type": "stream",
     "text": [
      "2025-01-04 09:53:33.098 Python[8737:23986084] error messaging the mach port for IMKCFRunLoopWakeUpReliable\n"
     ]
    },
    {
     "data": {
      "text/plain": [
       "-1"
      ]
     },
     "execution_count": 6,
     "metadata": {},
     "output_type": "execute_result"
    }
   ],
   "source": [
    "img = cv2.imread(dilate)\n",
    "kernel = np.ones((3,3), dtype =np.uint8)\n",
    "dilate_1 = cv2.dilate(img, kernel, iterations =1)\n",
    "dilate_2 = cv2.dilate(img, kernel, iterations =2)\n",
    "dilate_3 = cv2.dilate(img, kernel, iterations =3)\n",
    "cv2.imshow(\"img\",img)\n",
    "cv2.imshow(\"dilate_1\",dilate_1)\n",
    "cv2.imshow(\"dilate_2\",dilate_2)\n",
    "cv2.imshow(\"dilate_3\",dilate_3)\n",
    "\n",
    "cv2.waitKey(0)\n",
    "cv2.destroyAllWindows()\n",
    "cv2.waitKey(1)"
   ]
  },
  {
   "cell_type": "code",
   "execution_count": 7,
   "metadata": {},
   "outputs": [
    {
     "data": {
      "text/plain": [
       "-1"
      ]
     },
     "execution_count": 7,
     "metadata": {},
     "output_type": "execute_result"
    }
   ],
   "source": [
    "img = cv2.imread(erode)\n",
    "kernel = np.ones((3,3), dtype =np.uint8)\n",
    "erode_1 = cv2.erode(img, kernel, iterations = 1)\n",
    "erode_2 = cv2.erode(img, kernel, iterations = 2)\n",
    "erode_3 = cv2.erode(img, kernel, iterations = 3)\n",
    "cv2.imshow(\"img\",img)\n",
    "cv2.imshow(\"erode_1\",erode_1)\n",
    "cv2.imshow(\"erode_2\",erode_2)\n",
    "cv2.imshow(\"erode_3\",erode_3)\n",
    "\n",
    "cv2.waitKey(0)\n",
    "cv2.destroyAllWindows()\n",
    "cv2.waitKey(1)"
   ]
  },
  {
   "cell_type": "markdown",
   "metadata": {},
   "source": [
    "### 침식 후 팽창"
   ]
  },
  {
   "cell_type": "code",
   "execution_count": 8,
   "metadata": {},
   "outputs": [
    {
     "data": {
      "text/plain": [
       "-1"
      ]
     },
     "execution_count": 8,
     "metadata": {},
     "output_type": "execute_result"
    }
   ],
   "source": [
    "img = cv2.imread(erode)\n",
    "kernel = np.ones((3,3), dtype =np.uint8)\n",
    "erode_3 = cv2.erode(img, kernel, iterations = 3)\n",
    "dilate_3 = cv2.dilate(erode_3, kernel, iterations =3)\n",
    "cv2.imshow(\"dilate_3\",dilate_3)\n",
    "\n",
    "cv2.waitKey(0)\n",
    "cv2.destroyAllWindows()\n",
    "cv2.waitKey(1)"
   ]
  }
 ],
 "metadata": {
  "kernelspec": {
   "display_name": "ai",
   "language": "python",
   "name": "python3"
  },
  "language_info": {
   "codemirror_mode": {
    "name": "ipython",
    "version": 3
   },
   "file_extension": ".py",
   "mimetype": "text/x-python",
   "name": "python",
   "nbconvert_exporter": "python",
   "pygments_lexer": "ipython3",
   "version": "3.9.11"
  }
 },
 "nbformat": 4,
 "nbformat_minor": 2
}
