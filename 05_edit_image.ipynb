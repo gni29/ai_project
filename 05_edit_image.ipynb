{
 "cells": [
  {
   "cell_type": "code",
   "execution_count": 2,
   "metadata": {},
   "outputs": [],
   "source": [
    "import cv2\n",
    "import numpy as np"
   ]
  },
  {
   "cell_type": "markdown",
   "metadata": {},
   "source": []
  },
  {
   "cell_type": "code",
   "execution_count": 2,
   "metadata": {},
   "outputs": [],
   "source": [
    "path = 'images/cat.jpg'\n"
   ]
  },
  {
   "cell_type": "markdown",
   "metadata": {},
   "source": [
    "## 이미지 복사"
   ]
  },
  {
   "cell_type": "code",
   "execution_count": 4,
   "metadata": {},
   "outputs": [
    {
     "ename": "error",
     "evalue": "OpenCV(4.10.0) /Users/xperience/GHA-Actions-OpenCV/_work/opencv-python/opencv-python/opencv/modules/imgproc/src/demosaicing.cpp:1701: error: (-215:Assertion failed) scn == 1 && dcn == 1 in function 'demosaicing'\n",
     "output_type": "error",
     "traceback": [
      "\u001b[0;31m---------------------------------------------------------------------------\u001b[0m",
      "\u001b[0;31merror\u001b[0m                                     Traceback (most recent call last)",
      "Cell \u001b[0;32mIn[4], line 4\u001b[0m\n\u001b[1;32m      2\u001b[0m shallow_copy \u001b[38;5;241m=\u001b[39m img \u001b[38;5;66;03m## 얕은 복사\u001b[39;00m\n\u001b[1;32m      3\u001b[0m deep_copy \u001b[38;5;241m=\u001b[39mimg\u001b[38;5;241m.\u001b[39mcopy() \u001b[38;5;66;03m## 깊은 복사\u001b[39;00m\n\u001b[0;32m----> 4\u001b[0m \u001b[43mcv2\u001b[49m\u001b[38;5;241;43m.\u001b[39;49m\u001b[43mcvtColor\u001b[49m\u001b[43m(\u001b[49m\u001b[43mshallow_copy\u001b[49m\u001b[43m,\u001b[49m\u001b[43m \u001b[49m\u001b[43mcv2\u001b[49m\u001b[38;5;241;43m.\u001b[39;49m\u001b[43mCOLOR_BAYER_BG2GRAY\u001b[49m\u001b[43m)\u001b[49m\n\u001b[1;32m      5\u001b[0m cv2\u001b[38;5;241m.\u001b[39mimshow()\n",
      "\u001b[0;31merror\u001b[0m: OpenCV(4.10.0) /Users/xperience/GHA-Actions-OpenCV/_work/opencv-python/opencv-python/opencv/modules/imgproc/src/demosaicing.cpp:1701: error: (-215:Assertion failed) scn == 1 && dcn == 1 in function 'demosaicing'\n"
     ]
    }
   ],
   "source": [
    "img = cv2.imread(path)\n",
    "shallow_copy = img ## 얕은 복사\n",
    "deep_copy =img.copy() ## 깊은 복사\n",
    "cv2.cvtColor(shallow_copy, cv2.COLOR_BAYER_BG2GRAY)\n",
    "cv2.imshow()"
   ]
  },
  {
   "cell_type": "code",
   "execution_count": 7,
   "metadata": {},
   "outputs": [
    {
     "name": "stdout",
     "output_type": "stream",
     "text": [
      "(1094, 1794, 3)\n"
     ]
    }
   ],
   "source": [
    "img = cv2.imread(path)\n",
    "print(img.shape)"
   ]
  },
  {
   "cell_type": "code",
   "execution_count": null,
   "metadata": {},
   "outputs": [],
   "source": [
    "## 고정크기로 조정\n",
    "cv2.resize(img,(547,847))\n",
    "cv2.imshow('img',img)\n",
    "cv2.waitKey(0)\n",
    "cv2.destroyAllWindows()\n",
    "cv2.waitKey(1)"
   ]
  },
  {
   "cell_type": "code",
   "execution_count": null,
   "metadata": {},
   "outputs": [],
   "source": [
    "## 비율로 조정\n",
    "\n",
    "dst = cv2.resize(img,None,fx = 0.5, fy = 0.7, interpolation= cv2.INTER_BITS2)\n",
    "cv2.imshow('img',dst)\n",
    "cv2.waitKey(0)\n",
    "cv2.destroyAllWindows()\n",
    "cv2.waitKey(1)"
   ]
  },
  {
   "cell_type": "markdown",
   "metadata": {},
   "source": [
    "## 실습"
   ]
  },
  {
   "cell_type": "code",
   "execution_count": null,
   "metadata": {},
   "outputs": [],
   "source": [
    "video_path = 'video/dog.mp4'\n",
    "cap = cv2.VideoCapture(video_path)\n",
    "fps = cap.get(cv2.CAP_PROP_FPS)\n",
    "while cap.isOpened():\n",
    "    ret, frame = cap.read()\n",
    "    if not ret:\n",
    "        break\n",
    "    if frame is not None:\n",
    "        fr = cv2.resize(frame,None, fx = (1.5)**(1/2), fy = (1.5)**(1/2))\n",
    "        cv2.imshow(\"video\",fr)\n",
    "        if cv2.waitKey(int(1000//fps)) == ord('q'):\n",
    "            break\n",
    "cap.release()\n",
    "\n",
    "# 창 닫기\n",
    "cv2.waitKey(1)\n",
    "cv2.destroyAllWindows()\n"
   ]
  },
  {
   "cell_type": "markdown",
   "metadata": {},
   "source": [
    "## 이미지 키우기 줄이기 뒤집기"
   ]
  },
  {
   "cell_type": "code",
   "execution_count": 10,
   "metadata": {},
   "outputs": [
    {
     "name": "stderr",
     "output_type": "stream",
     "text": [
      "2025-01-03 12:16:19.817 Python[93528:20647089] +[IMKClient subclass]: chose IMKClient_Modern\n",
      "2025-01-03 12:16:19.817 Python[93528:20647089] +[IMKInputSession subclass]: chose IMKInputSession_Modern\n"
     ]
    },
    {
     "data": {
      "text/plain": [
       "-1"
      ]
     },
     "execution_count": 10,
     "metadata": {},
     "output_type": "execute_result"
    }
   ],
   "source": [
    "u = cv2.pyrUp(img)\n",
    "d = cv2.pyrDown(img)\n",
    "d_f = cv2.flip(d,flipCode = 1)\n",
    "cv2.imshow('up',u)\n",
    "cv2.imshow('down',d_f)\n",
    "cv2.waitKey(0)\n",
    "cv2.destroyAllWindows()\n",
    "cv2.waitKey(1)"
   ]
  },
  {
   "cell_type": "markdown",
   "metadata": {},
   "source": [
    "## 이미지 자르기"
   ]
  },
  {
   "cell_type": "code",
   "execution_count": null,
   "metadata": {},
   "outputs": [],
   "source": [
    "img = cv2.imread(path)\n",
    "crop = img[100:200,100:400]\n",
    "cv2.imshow(\"cat\",img)\n",
    "cv2.imshow('cropped',crop)\n"
   ]
  },
  {
   "cell_type": "markdown",
   "metadata": {},
   "source": [
    "### 실습"
   ]
  },
  {
   "cell_type": "code",
   "execution_count": 3,
   "metadata": {},
   "outputs": [],
   "source": [
    "path = 'images/share.jpeg'"
   ]
  },
  {
   "cell_type": "code",
   "execution_count": 4,
   "metadata": {},
   "outputs": [
    {
     "name": "stderr",
     "output_type": "stream",
     "text": [
      "2025-01-04 11:15:24.041 Python[11528:24267397] +[IMKClient subclass]: chose IMKClient_Modern\n",
      "2025-01-04 11:15:24.041 Python[11528:24267397] +[IMKInputSession subclass]: chose IMKInputSession_Modern\n"
     ]
    },
    {
     "data": {
      "text/plain": [
       "-1"
      ]
     },
     "execution_count": 4,
     "metadata": {},
     "output_type": "execute_result"
    }
   ],
   "source": [
    "img = cv2.imread(path)\n",
    "\n",
    "img_flip = cv2.flip(img, flipCode = 1)\n",
    "img_down = cv2.pyrDown(img)\n",
    "img_double_down = cv2.flip(cv2.pyrDown(img_down),flipCode =1)\n",
    "a  = img_flip.shape[0]-img_down.shape[0]\n",
    "b  = img_flip.shape[1]-img_down.shape[1]\n",
    "c = img_down.shape[0] - img_double_down.shape[0]\n",
    "d = img_down.shape[1] - img_double_down.shape[1]\n",
    "img_down[c:img_down.shape[0],d:img_down.shape[1]] = img_double_down\n",
    "img_flip[a:img_flip.shape[0],b:img_flip.shape[1]] = img_down\n",
    "cv2.imshow('exercise',img_flip)\n",
    "cv2.waitKey(0)\n",
    "cv2.destroyAllWindows()\n",
    "cv2.waitKey(1)\n"
   ]
  },
  {
   "cell_type": "code",
   "execution_count": 5,
   "metadata": {},
   "outputs": [
    {
     "data": {
      "text/plain": [
       "(194, 259, 3)"
      ]
     },
     "execution_count": 5,
     "metadata": {},
     "output_type": "execute_result"
    }
   ],
   "source": [
    "img.shape"
   ]
  },
  {
   "cell_type": "markdown",
   "metadata": {},
   "source": [
    "## 사진 좌우 대칭 만들기"
   ]
  },
  {
   "cell_type": "code",
   "execution_count": 121,
   "metadata": {},
   "outputs": [
    {
     "data": {
      "text/plain": [
       "-1"
      ]
     },
     "execution_count": 121,
     "metadata": {},
     "output_type": "execute_result"
    }
   ],
   "source": [
    "img = cv2.imread(path)\n",
    "img_flip = cv2.flip(img, flipCode = 1)\n",
    "a = img.shape[1]//2\n",
    "# 왼쪽 절반 자르기\n",
    "left_half = img[:, : a //2 + 90 ]\n",
    "\n",
    "# 왼쪽 절반을 좌우 반전\n",
    "mirrored_left = cv2.flip(left_half, 1)\n",
    "symmetric_image = np.hstack((left_half, mirrored_left))\n",
    "cv2.imwrite('images/share_symmetric.jpg', symmetric_image)\n",
    "cv2.imshow('exercise',symmetric_image)\n",
    "cv2.waitKey(0)\n",
    "cv2.destroyAllWindows()\n",
    "cv2.waitKey(1)"
   ]
  },
  {
   "cell_type": "markdown",
   "metadata": {},
   "source": [
    "## 이미지 색상"
   ]
  },
  {
   "cell_type": "code",
   "execution_count": 3,
   "metadata": {},
   "outputs": [],
   "source": [
    "path = 'images/share_symmetric.jpg'"
   ]
  },
  {
   "cell_type": "code",
   "execution_count": 5,
   "metadata": {},
   "outputs": [
    {
     "name": "stderr",
     "output_type": "stream",
     "text": [
      "2025-01-04 11:32:17.253 Python[12128:24318579] +[IMKClient subclass]: chose IMKClient_Modern\n",
      "2025-01-04 11:32:17.253 Python[12128:24318579] +[IMKInputSession subclass]: chose IMKInputSession_Modern\n"
     ]
    },
    {
     "data": {
      "text/plain": [
       "-1"
      ]
     },
     "execution_count": 5,
     "metadata": {},
     "output_type": "execute_result"
    }
   ],
   "source": [
    "img = cv2.imread(path)\n",
    "b,g,r = cv2.split(img)\n",
    "cv2.imshow(\"blue\",b)\n",
    "cv2.imshow(\"green\",g)\n",
    "cv2.imshow('red',r)\n",
    "cv2.waitKey(0)\n",
    "cv2.destroyAllWindows()\n",
    "cv2.waitKey(1)"
   ]
  },
  {
   "cell_type": "code",
   "execution_count": 124,
   "metadata": {},
   "outputs": [
    {
     "data": {
      "text/plain": [
       "-1"
      ]
     },
     "execution_count": 124,
     "metadata": {},
     "output_type": "execute_result"
    }
   ],
   "source": [
    "merged_img = cv2.merge([b,g,r])\n",
    "cv2.imshow(\"merged\",merged_img)\n",
    "cv2.waitKey(0)\n",
    "cv2.destroyAllWindows()\n",
    "cv2.waitKey(1)"
   ]
  },
  {
   "cell_type": "markdown",
   "metadata": {},
   "source": [
    "### 이미지 색상 변경"
   ]
  },
  {
   "cell_type": "code",
   "execution_count": 125,
   "metadata": {},
   "outputs": [
    {
     "data": {
      "text/plain": [
       "-1"
      ]
     },
     "execution_count": 125,
     "metadata": {},
     "output_type": "execute_result"
    }
   ],
   "source": [
    "img_changed = cv2.cvtColor(img, cv2.COLOR_BGR2GRAY)\n",
    "img_rgb=cv2.cvtColor(img, cv2.COLOR_BGR2RGB)\n",
    "cv2.imshow('gray',img_changed)\n",
    "cv2.imshow('rgb',img_rgb)\n",
    "cv2.waitKey(0)\n",
    "cv2.destroyAllWindows()\n",
    "cv2.waitKey(1)"
   ]
  },
  {
   "cell_type": "markdown",
   "metadata": {},
   "source": [
    "### 실습"
   ]
  },
  {
   "cell_type": "code",
   "execution_count": 128,
   "metadata": {},
   "outputs": [],
   "source": [
    "b = cv2.split(img_changed)"
   ]
  },
  {
   "cell_type": "code",
   "execution_count": 140,
   "metadata": {},
   "outputs": [
    {
     "data": {
      "text/plain": [
       "array([[37, 37, 37, ..., 37, 37, 37],\n",
       "       [37, 37, 37, ..., 37, 37, 37],\n",
       "       [37, 37, 37, ..., 37, 37, 37],\n",
       "       ...,\n",
       "       [41, 41, 41, ..., 41, 41, 41],\n",
       "       [42, 42, 42, ..., 42, 42, 42],\n",
       "       [42, 42, 42, ..., 42, 42, 42]], dtype=uint8)"
      ]
     },
     "execution_count": 140,
     "metadata": {},
     "output_type": "execute_result"
    }
   ],
   "source": [
    "b[0]"
   ]
  },
  {
   "cell_type": "code",
   "execution_count": 143,
   "metadata": {},
   "outputs": [
    {
     "data": {
      "text/plain": [
       "-1"
      ]
     },
     "execution_count": 143,
     "metadata": {},
     "output_type": "execute_result"
    }
   ],
   "source": [
    "img_changed = cv2.cvtColor(img, cv2.COLOR_BGR2GRAY)\n",
    "img_changed_col = 255 - img_changed\n",
    "cv2.imshow('gray',img_changed_col)\n",
    "cv2.waitKey(0)\n",
    "cv2.destroyAllWindows()\n",
    "cv2.waitKey(1)"
   ]
  },
  {
   "cell_type": "code",
   "execution_count": 145,
   "metadata": {},
   "outputs": [
    {
     "data": {
      "text/plain": [
       "-1"
      ]
     },
     "execution_count": 145,
     "metadata": {},
     "output_type": "execute_result"
    }
   ],
   "source": [
    "b,g,r = cv2.split(img)\n",
    "b_changed = 255 - b\n",
    "g_changed = 255 - g\n",
    "r_changed = 255 - r\n",
    "bgr_changed = cv2.merge([b_changed,g_changed,r_changed])\n",
    "\n",
    "cv2.imshow('bgr_changed',bgr_changed)\n",
    "cv2.waitKey(0)\n",
    "cv2.destroyAllWindows()\n",
    "cv2.waitKey(1)"
   ]
  },
  {
   "cell_type": "markdown",
   "metadata": {},
   "source": []
  },
  {
   "cell_type": "markdown",
   "metadata": {},
   "source": [
    "## 이미지 흐리기"
   ]
  },
  {
   "cell_type": "code",
   "execution_count": 147,
   "metadata": {},
   "outputs": [
    {
     "data": {
      "text/plain": [
       "-1"
      ]
     },
     "execution_count": 147,
     "metadata": {},
     "output_type": "execute_result"
    }
   ],
   "source": [
    "kernel_3 = cv2.GaussianBlur(img,ksize=(3,3),sigmaX=0)\n",
    "kernel_5 = cv2.GaussianBlur(img,ksize=(5,5),sigmaX=0)\n",
    "kernel_7 = cv2.GaussianBlur(img,ksize=(7,7),sigmaX=0)\n",
    "\n",
    "cv2.imshow(\"original\",img)\n",
    "cv2.imshow(\"3\",kernel_3)\n",
    "cv2.imshow(\"5\",kernel_5)\n",
    "cv2.imshow(\"7\",kernel_7)\n",
    "cv2.waitKey(0)\n",
    "cv2.destroyAllWindows()\n",
    "cv2.waitKey(1)"
   ]
  },
  {
   "cell_type": "code",
   "execution_count": 148,
   "metadata": {},
   "outputs": [
    {
     "data": {
      "text/plain": [
       "-1"
      ]
     },
     "execution_count": 148,
     "metadata": {},
     "output_type": "execute_result"
    }
   ],
   "source": [
    "sigma_1 = cv2.GaussianBlur(img,ksize=(0,0),sigmaX=1)\n",
    "sigma_2 = cv2.GaussianBlur(img,ksize=(0,0),sigmaX=2)\n",
    "sigma_3 = cv2.GaussianBlur(img,ksize=(0,0),sigmaX=3)\n",
    "\n",
    "cv2.imshow(\"original\",img)\n",
    "cv2.imshow(\"1\",sigma_1)\n",
    "cv2.imshow(\"2\",sigma_2)\n",
    "cv2.imshow(\"3\",sigma_3)\n",
    "cv2.waitKey(0)\n",
    "cv2.destroyAllWindows()\n",
    "cv2.waitKey(1)"
   ]
  },
  {
   "cell_type": "markdown",
   "metadata": {},
   "source": [
    "### 이미지 회전"
   ]
  },
  {
   "cell_type": "code",
   "execution_count": 150,
   "metadata": {},
   "outputs": [
    {
     "data": {
      "text/plain": [
       "-1"
      ]
     },
     "execution_count": 150,
     "metadata": {},
     "output_type": "execute_result"
    }
   ],
   "source": [
    "dst_90 = cv2.rotate(img,cv2.ROTATE_90_CLOCKWISE)\n",
    "dst_180 =cv2.rotate(img,cv2.ROTATE_180)\n",
    "dst_90_counter = cv2.rotate(img,cv2.ROTATE_90_COUNTERCLOCKWISE)\n",
    "cv2.imshow(\"original\",img)\n",
    "cv2.imshow(\"90\",dst_90)\n",
    "cv2.imshow(\"180\",dst_180)\n",
    "cv2.imshow(\"counter 90\",dst_90_counter)\n",
    "cv2.waitKey(0)\n",
    "cv2.destroyAllWindows()\n",
    "cv2.waitKey(1)"
   ]
  },
  {
   "cell_type": "code",
   "execution_count": 6,
   "metadata": {},
   "outputs": [
    {
     "data": {
      "text/plain": [
       "-1"
      ]
     },
     "execution_count": 6,
     "metadata": {},
     "output_type": "execute_result"
    }
   ],
   "source": [
    "\n",
    "name = 'Trackbar'\n",
    "trackbar_name = 'rotation'\n",
    "cv2.namedWindow(name)\n",
    "cv2.createTrackbar(trackbar_name,name,0,360,lambda x: x)\n",
    "while True:\n",
    "    angle = cv2.getTrackbarPos(trackbar_name,name)\n",
    "    center = (img.shape[1]//2,img.shape[0]//2)\n",
    "    affine = cv2.getRotationMatrix2D(center, angle, 1)\n",
    "    dst = cv2.warpAffine(img, affine, (img.shape[1],img.shape[0])) ### 사이즈 shape이 가로(1) 세로(0)으로 입력\n",
    "    cv2.imshow(name,dst)\n",
    "    if cv2.waitKey(1) == ord('q'):\n",
    "        break\n",
    "    \n",
    "\n",
    "cv2.destroyAllWindows()\n",
    "\n",
    "cv2.waitKey(1)"
   ]
  },
  {
   "cell_type": "markdown",
   "metadata": {},
   "source": [
    "### 트랙바로 각도 회전"
   ]
  },
  {
   "cell_type": "code",
   "execution_count": null,
   "metadata": {},
   "outputs": [],
   "source": []
  },
  {
   "cell_type": "code",
   "execution_count": null,
   "metadata": {},
   "outputs": [],
   "source": []
  },
  {
   "cell_type": "code",
   "execution_count": 6,
   "metadata": {},
   "outputs": [
    {
     "ename": "NameError",
     "evalue": "name 'dst' is not defined",
     "output_type": "error",
     "traceback": [
      "\u001b[0;31m---------------------------------------------------------------------------\u001b[0m",
      "\u001b[0;31mNameError\u001b[0m                                 Traceback (most recent call last)",
      "Cell \u001b[0;32mIn[6], line 5\u001b[0m\n\u001b[1;32m      3\u001b[0m \u001b[38;5;28;01mfor\u001b[39;00m i \u001b[38;5;129;01min\u001b[39;00m \u001b[38;5;28mrange\u001b[39m(\u001b[38;5;241m361\u001b[39m):\n\u001b[1;32m      4\u001b[0m     affine \u001b[38;5;241m=\u001b[39m cv2\u001b[38;5;241m.\u001b[39mgetRotationMatrix2D(center,i,\u001b[38;5;241m1\u001b[39m)\n\u001b[0;32m----> 5\u001b[0m     \u001b[43mdst\u001b[49m[i] \u001b[38;5;241m=\u001b[39m cv2\u001b[38;5;241m.\u001b[39mwarpAffine(img, affine, (img\u001b[38;5;241m.\u001b[39mshape[\u001b[38;5;241m1\u001b[39m],img\u001b[38;5;241m.\u001b[39mshape[\u001b[38;5;241m0\u001b[39m]))\n\u001b[1;32m      6\u001b[0m     cv2\u001b[38;5;241m.\u001b[39mimshow(\u001b[38;5;124m'\u001b[39m\u001b[38;5;124mframe\u001b[39m\u001b[38;5;124m'\u001b[39m,dst[i])\n\u001b[1;32m      7\u001b[0m     \u001b[38;5;28;01mif\u001b[39;00m cv2\u001b[38;5;241m.\u001b[39mwaitKey(\u001b[38;5;241m0\u001b[39m) \u001b[38;5;241m==\u001b[39m \u001b[38;5;28mord\u001b[39m(\u001b[38;5;124m'\u001b[39m\u001b[38;5;124mq\u001b[39m\u001b[38;5;124m'\u001b[39m):\n",
      "\u001b[0;31mNameError\u001b[0m: name 'dst' is not defined"
     ]
    }
   ],
   "source": [
    "center = (img.shape[1]//2,img.shape[0]//2)\n",
    "img = cv2.imread(path)\n",
    "for i in range(361):\n",
    "    affine = cv2.getRotationMatrix2D(center,i,1)\n",
    "    dst[i] = cv2.warpAffine(img, affine, (img.shape[1],img.shape[0]))\n",
    "    cv2.imshow('frame',dst[i])\n",
    "    if cv2.waitKey(0) == ord('q'):\n",
    "        break\n",
    "cv2.destroyAllWindows()\n",
    "cv2.waitKey(1)"
   ]
  },
  {
   "cell_type": "code",
   "execution_count": null,
   "metadata": {},
   "outputs": [],
   "source": []
  }
 ],
 "metadata": {
  "kernelspec": {
   "display_name": "ai",
   "language": "python",
   "name": "python3"
  },
  "language_info": {
   "codemirror_mode": {
    "name": "ipython",
    "version": 3
   },
   "file_extension": ".py",
   "mimetype": "text/x-python",
   "name": "python",
   "nbconvert_exporter": "python",
   "pygments_lexer": "ipython3",
   "version": "3.9.11"
  }
 },
 "nbformat": 4,
 "nbformat_minor": 2
}
