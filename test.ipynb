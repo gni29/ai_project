{
 "cells": [
  {
   "cell_type": "code",
   "execution_count": null,
   "metadata": {},
   "outputs": [
    {
     "ename": "",
     "evalue": "",
     "output_type": "error",
     "traceback": [
      "\u001b[1;31m커널을 시작하지 못했습니다. \n",
      "\u001b[1;31mTraceback (most recent call last):\n",
      "\u001b[1;31m  File \"/Users/pyoungjinji/miniforge3/lib/python3.8/runpy.py\", line 194, in _run_module_as_main\n",
      "\u001b[1;31m    return _run_code(code, main_globals, None,\n",
      "\u001b[1;31m  File \"/Users/pyoungjinji/miniforge3/lib/python3.8/runpy.py\", line 87, in _run_code\n",
      "\u001b[1;31m    exec(code, run_globals)\n",
      "\u001b[1;31m  File \"/Users/pyoungjinji/ai/lib/python3.8/site-packages/ipykernel_launcher.py\", line 18, in <module>\n",
      "\u001b[1;31m    app.launch_new_instance()\n",
      "\u001b[1;31m  File \"/Users/pyoungjinji/ai/lib/python3.8/site-packages/traitlets/config/application.py\", line 1074, in launch_instance\n",
      "\u001b[1;31m    app.initialize(argv)\n",
      "\u001b[1;31m  File \"/Users/pyoungjinji/ai/lib/python3.8/site-packages/traitlets/config/application.py\", line 118, in inner\n",
      "\u001b[1;31m    return method(app, *args, **kwargs)\n",
      "\u001b[1;31m  File \"/Users/pyoungjinji/ai/lib/python3.8/site-packages/ipykernel/kernelapp.py\", line 707, in initialize\n",
      "\u001b[1;31m    self.init_kernel()\n",
      "\u001b[1;31m  File \"/Users/pyoungjinji/ai/lib/python3.8/site-packages/ipykernel/kernelapp.py\", line 555, in init_kernel\n",
      "\u001b[1;31m    kernel = kernel_factory(\n",
      "\u001b[1;31m  File \"/Users/pyoungjinji/ai/lib/python3.8/site-packages/traitlets/config/configurable.py\", line 583, in instance\n",
      "\u001b[1;31m    inst = cls(*args, **kwargs)\n",
      "\u001b[1;31m  File \"/Users/pyoungjinji/ai/lib/python3.8/site-packages/ipykernel/ipkernel.py\", line 154, in __init__\n",
      "\u001b[1;31m    import appnope  # type:ignore[import-untyped]\n",
      "\u001b[1;31m  File \"/Users/pyoungjinji/ai/lib/python3.8/site-packages/appnope/__init__.py\", line 15, in <module>\n",
      "\u001b[1;31m    from ._nope import *  # noqa\n",
      "\u001b[1;31m  File \"/Users/pyoungjinji/ai/lib/python3.8/site-packages/appnope/_nope.py\", line 9, in <module>\n",
      "\u001b[1;31m    import ctypes\n",
      "\u001b[1;31m  File \"/Users/pyoungjinji/miniforge3/lib/python3.8/ctypes/__init__.py\", line 7, in <module>\n",
      "\u001b[1;31m    from _ctypes import Union, Structure, Array\n",
      "\u001b[1;31mImportError: dlopen(/Users/pyoungjinji/miniforge3/lib/python3.8/lib-dynload/_ctypes.cpython-38-darwin.so, 0x0002): Library not loaded: @rpath/libffi.7.dylib\n",
      "\u001b[1;31m  Referenced from: <2A9CDD4B-6AC4-3FB2-B6EE-093B44EBAACA> /Users/pyoungjinji/miniforge3/lib/python3.8/lib-dynload/_ctypes.cpython-38-darwin.so\n",
      "\u001b[1;31m  Reason: tried: '/Users/pyoungjinji/miniforge3/lib/libffi.7.dylib' (no such file), '/System/Volumes/Preboot/Cryptexes/OS/Users/pyoungjinji/miniforge3/lib/libffi.7.dylib' (no such file), '/Users/pyoungjinji/miniforge3/lib/libffi.7.dylib' (no such file), '/System/Volumes/Preboot/Cryptexes/OS/Users/pyoungjinji/miniforge3/lib/libffi.7.dylib' (no such file), '/Users/pyoungjinji/miniforge3/lib/python3.8/lib-dynload/../../libffi.7.dylib' (no such file), '/Users/pyoungjinji/miniforge3/lib/libffi.7.dylib' (no such file), '/System/Volumes/Preboot/Cryptexes/OS/Users/pyoungjinji/miniforge3/lib/libffi.7.dylib' (no such file), '/Users/pyoungjinji/miniforge3/lib/libffi.7.dylib' (no such file), '/System/Volumes/Preboot/Cryptexes/OS/Users/pyoungjinji/miniforge3/lib/libffi.7.dylib' (no such file), '/Users/pyoungjinji/miniforge3/lib/python3.8/lib-dynload/../../libffi.7.dylib' (no such file), '/Users/pyoungjinji/miniforge3/lib/libffi.7.dylib' (no such file), '/System/Volumes/Preboot/Cryptexes/OS/Users/pyoungjinji/miniforge3/lib/libffi.7.dylib' (no such file), '/Users/pyoungjinji/miniforge3/bin/../lib/libffi.7.dylib' (no such file), '/Users/pyoungjinji/miniforge3/lib/libffi.7.dylib' (no such file), '/System/Volumes/Preboot/Cryptexes/OS/Users/pyoungjinji/miniforge3/lib/libffi.7.dylib' (no such file), '/Users/pyoungjinji/miniforge3/bin/../lib/libffi.7.dylib' (no such file), '/usr/local/lib/libffi.7.dylib' (no such file), '/usr/lib/libffi.7.dylib' (no such file, not in dyld cache). \n",
      "\u001b[1;31m자세한 내용은 Jupyter <a href='command:jupyter.viewOutput'>로그</a>를 참조하세요."
     ]
    }
   ],
   "source": [
    "import cv2"
   ]
  },
  {
   "cell_type": "code",
   "execution_count": null,
   "metadata": {},
   "outputs": [
    {
     "ename": "",
     "evalue": "",
     "output_type": "error",
     "traceback": [
      "\u001b[1;31m커널을 시작하지 못했습니다. \n",
      "\u001b[1;31mTraceback (most recent call last):\n",
      "\u001b[1;31m  File \"/Users/pyoungjinji/miniforge3/lib/python3.8/runpy.py\", line 194, in _run_module_as_main\n",
      "\u001b[1;31m    return _run_code(code, main_globals, None,\n",
      "\u001b[1;31m  File \"/Users/pyoungjinji/miniforge3/lib/python3.8/runpy.py\", line 87, in _run_code\n",
      "\u001b[1;31m    exec(code, run_globals)\n",
      "\u001b[1;31m  File \"/Users/pyoungjinji/ai/lib/python3.8/site-packages/ipykernel_launcher.py\", line 18, in <module>\n",
      "\u001b[1;31m    app.launch_new_instance()\n",
      "\u001b[1;31m  File \"/Users/pyoungjinji/ai/lib/python3.8/site-packages/traitlets/config/application.py\", line 1074, in launch_instance\n",
      "\u001b[1;31m    app.initialize(argv)\n",
      "\u001b[1;31m  File \"/Users/pyoungjinji/ai/lib/python3.8/site-packages/traitlets/config/application.py\", line 118, in inner\n",
      "\u001b[1;31m    return method(app, *args, **kwargs)\n",
      "\u001b[1;31m  File \"/Users/pyoungjinji/ai/lib/python3.8/site-packages/ipykernel/kernelapp.py\", line 707, in initialize\n",
      "\u001b[1;31m    self.init_kernel()\n",
      "\u001b[1;31m  File \"/Users/pyoungjinji/ai/lib/python3.8/site-packages/ipykernel/kernelapp.py\", line 555, in init_kernel\n",
      "\u001b[1;31m    kernel = kernel_factory(\n",
      "\u001b[1;31m  File \"/Users/pyoungjinji/ai/lib/python3.8/site-packages/traitlets/config/configurable.py\", line 583, in instance\n",
      "\u001b[1;31m    inst = cls(*args, **kwargs)\n",
      "\u001b[1;31m  File \"/Users/pyoungjinji/ai/lib/python3.8/site-packages/ipykernel/ipkernel.py\", line 154, in __init__\n",
      "\u001b[1;31m    import appnope  # type:ignore[import-untyped]\n",
      "\u001b[1;31m  File \"/Users/pyoungjinji/ai/lib/python3.8/site-packages/appnope/__init__.py\", line 15, in <module>\n",
      "\u001b[1;31m    from ._nope import *  # noqa\n",
      "\u001b[1;31m  File \"/Users/pyoungjinji/ai/lib/python3.8/site-packages/appnope/_nope.py\", line 9, in <module>\n",
      "\u001b[1;31m    import ctypes\n",
      "\u001b[1;31m  File \"/Users/pyoungjinji/miniforge3/lib/python3.8/ctypes/__init__.py\", line 7, in <module>\n",
      "\u001b[1;31m    from _ctypes import Union, Structure, Array\n",
      "\u001b[1;31mImportError: dlopen(/Users/pyoungjinji/miniforge3/lib/python3.8/lib-dynload/_ctypes.cpython-38-darwin.so, 0x0002): Library not loaded: @rpath/libffi.7.dylib\n",
      "\u001b[1;31m  Referenced from: <2A9CDD4B-6AC4-3FB2-B6EE-093B44EBAACA> /Users/pyoungjinji/miniforge3/lib/python3.8/lib-dynload/_ctypes.cpython-38-darwin.so\n",
      "\u001b[1;31m  Reason: tried: '/Users/pyoungjinji/miniforge3/lib/libffi.7.dylib' (no such file), '/System/Volumes/Preboot/Cryptexes/OS/Users/pyoungjinji/miniforge3/lib/libffi.7.dylib' (no such file), '/Users/pyoungjinji/miniforge3/lib/libffi.7.dylib' (no such file), '/System/Volumes/Preboot/Cryptexes/OS/Users/pyoungjinji/miniforge3/lib/libffi.7.dylib' (no such file), '/Users/pyoungjinji/miniforge3/lib/python3.8/lib-dynload/../../libffi.7.dylib' (no such file), '/Users/pyoungjinji/miniforge3/lib/libffi.7.dylib' (no such file), '/System/Volumes/Preboot/Cryptexes/OS/Users/pyoungjinji/miniforge3/lib/libffi.7.dylib' (no such file), '/Users/pyoungjinji/miniforge3/lib/libffi.7.dylib' (no such file), '/System/Volumes/Preboot/Cryptexes/OS/Users/pyoungjinji/miniforge3/lib/libffi.7.dylib' (no such file), '/Users/pyoungjinji/miniforge3/lib/python3.8/lib-dynload/../../libffi.7.dylib' (no such file), '/Users/pyoungjinji/miniforge3/lib/libffi.7.dylib' (no such file), '/System/Volumes/Preboot/Cryptexes/OS/Users/pyoungjinji/miniforge3/lib/libffi.7.dylib' (no such file), '/Users/pyoungjinji/miniforge3/bin/../lib/libffi.7.dylib' (no such file), '/Users/pyoungjinji/miniforge3/lib/libffi.7.dylib' (no such file), '/System/Volumes/Preboot/Cryptexes/OS/Users/pyoungjinji/miniforge3/lib/libffi.7.dylib' (no such file), '/Users/pyoungjinji/miniforge3/bin/../lib/libffi.7.dylib' (no such file), '/usr/local/lib/libffi.7.dylib' (no such file), '/usr/lib/libffi.7.dylib' (no such file, not in dyld cache). \n",
      "\u001b[1;31m자세한 내용은 Jupyter <a href='command:jupyter.viewOutput'>로그</a>를 참조하세요."
     ]
    }
   ],
   "source": [
    "%pip install opencv-python"
   ]
  },
  {
   "cell_type": "code",
   "execution_count": null,
   "metadata": {},
   "outputs": [],
   "source": []
  }
 ],
 "metadata": {
  "kernelspec": {
   "display_name": "ai",
   "language": "python",
   "name": "python3"
  },
  "language_info": {
   "name": "python",
   "version": "3.8.11"
  }
 },
 "nbformat": 4,
 "nbformat_minor": 2
}
